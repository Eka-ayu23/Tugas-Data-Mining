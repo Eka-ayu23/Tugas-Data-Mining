{
 "cells": [
  {
   "cell_type": "code",
   "execution_count": 1,
   "metadata": {
    "id": "7an3fn9NC5CP"
   },
   "outputs": [],
   "source": [
    "import numpy as np\n",
    "import matplotlib.pyplot as plt\n",
    "import pandas as pd"
   ]
  },
  {
   "cell_type": "code",
   "execution_count": 2,
   "metadata": {},
   "outputs": [],
   "source": [
    "#diatas itu sintaks untuk import library python"
   ]
  },
  {
   "cell_type": "code",
   "execution_count": 3,
   "metadata": {
    "id": "ZuEp0Ad4DeCd"
   },
   "outputs": [],
   "source": [
    "dataset = pd.read_csv(\"dataset-ayu.csv\")\n",
    "x = dataset.iloc[:, [3,4]].values\n",
    "y = dataset.iloc[:, -2].values\n"
   ]
  },
  {
   "cell_type": "code",
   "execution_count": 4,
   "metadata": {},
   "outputs": [],
   "source": [
    "#membaca dataset dan membuat var training serta testing"
   ]
  },
  {
   "cell_type": "code",
   "execution_count": 5,
   "metadata": {
    "colab": {
     "base_uri": "https://localhost:8080/"
    },
    "id": "rRN3xzn1EYc-",
    "outputId": "32e32df6-1e81-494a-da51-879e6aa2d996"
   },
   "outputs": [
    {
     "name": "stdout",
     "output_type": "stream",
     "text": [
      "[[  1229   2208]\n",
      " [  2590   8982]\n",
      " [  4874   9932]\n",
      " [  8482  22319]\n",
      " [ 42684 150502]\n",
      " [  1698   3865]\n",
      " [ 22266  21230]\n",
      " [  4762  12568]\n",
      " [  5718  14363]\n",
      " [  3672  11689]\n",
      " [  7132  11826]\n",
      " [  3827   7704]\n",
      " [  5830   6823]\n",
      " [  2982   7176]\n",
      " [  1825   3205]\n",
      " [  5643  14967]\n",
      " [ 17114  19784]\n",
      " [  2788  12055]\n",
      " [  9418  15000]\n",
      " [  4739  18135]\n",
      " [  2649  11390]\n",
      " [  1738   3683]\n",
      " [  2223   4347]\n",
      " [  1964   8153]\n",
      " [  1860   4239]\n",
      " [  2290   4204]\n",
      " [  1642  12027]\n",
      " [ 12485  22613]\n",
      " [ 10415   9897]\n",
      " [  3402   7720]\n",
      " [  2792  12338]\n",
      " [  7388  23527]\n",
      " [  3382  11735]\n",
      " [  3049   7878]\n",
      " [  2016  12336]\n",
      " [ 10463  21325]\n",
      " [  5275  11823]\n",
      " [  6515  10373]\n",
      " [  4873  21033]\n",
      " [  3052   8189]\n",
      " [  2437   7023]\n",
      " [  3091   5901]\n",
      " [ 12858  16533]\n",
      " [  4261  16640]\n",
      " [  2213  10320]\n",
      " [273606 659580]]\n"
     ]
    }
   ],
   "source": [
    "print(x)"
   ]
  },
  {
   "cell_type": "code",
   "execution_count": 6,
   "metadata": {
    "colab": {
     "base_uri": "https://localhost:8080/"
    },
    "id": "oWfSwRxoEced",
    "outputId": "327f5425-023d-4e87-aeec-87931c7199b5"
   },
   "outputs": [
    {
     "name": "stdout",
     "output_type": "stream",
     "text": [
      "[   9647   14031   42245   83738  584319   12714  155656   53247   29358\n",
      "   28345   49660   20250   25379   21695   13937   49152   87894   23752\n",
      "   46438   57014   20895   10980   11051   21143   16943   10796   14947\n",
      "   83752   22420   34036   23638   55515   53557   21874   20939   65650\n",
      "   30855   48853   44081   19356   18462   15829   59679   33380   31001\n",
      " 2198103]\n"
     ]
    }
   ],
   "source": [
    "print(y)"
   ]
  },
  {
   "cell_type": "code",
   "execution_count": 7,
   "metadata": {
    "id": "sKA24mvNEp09"
   },
   "outputs": [],
   "source": [
    "from sklearn.model_selection import train_test_split\n",
    "x_train,x_test,y_train,y_test = train_test_split(x,y,test_size = 0.25, random_state=0)\n"
   ]
  },
  {
   "cell_type": "code",
   "execution_count": 8,
   "metadata": {
    "colab": {
     "base_uri": "https://localhost:8080/"
    },
    "id": "j0nM6jYpFHVO",
    "outputId": "8474120a-3f04-40f8-d387-960d9c6307b1"
   },
   "outputs": [
    {
     "name": "stdout",
     "output_type": "stream",
     "text": [
      "[[ 12858  16533]\n",
      " [  4874   9932]\n",
      " [273606 659580]\n",
      " [  9418  15000]\n",
      " [  5643  14967]\n",
      " [ 12485  22613]\n",
      " [ 17114  19784]\n",
      " [  3091   5901]\n",
      " [  2437   7023]\n",
      " [  5718  14363]\n",
      " [  2982   7176]\n",
      " [  1698   3865]\n",
      " [  2788  12055]\n",
      " [  3049   7878]\n",
      " [  1825   3205]\n",
      " [  6515  10373]\n",
      " [  4762  12568]\n",
      " [ 10463  21325]\n",
      " [  2590   8982]\n",
      " [  1642  12027]\n",
      " [  5830   6823]\n",
      " [  2016  12336]\n",
      " [  1860   4239]\n",
      " [ 22266  21230]\n",
      " [  1964   8153]\n",
      " [  5275  11823]\n",
      " [  1738   3683]\n",
      " [  4739  18135]\n",
      " [  3672  11689]\n",
      " [  3052   8189]\n",
      " [  4261  16640]\n",
      " [  8482  22319]\n",
      " [  1229   2208]\n",
      " [  2213  10320]]\n"
     ]
    }
   ],
   "source": [
    "print(x_train)"
   ]
  },
  {
   "cell_type": "code",
   "execution_count": 9,
   "metadata": {
    "colab": {
     "base_uri": "https://localhost:8080/"
    },
    "id": "b5e0QYV-FLG0",
    "outputId": "af5a223c-10c2-49db-bfe7-58b3e7808fd3"
   },
   "outputs": [
    {
     "name": "stdout",
     "output_type": "stream",
     "text": [
      "[[  2290   4204]\n",
      " [  2223   4347]\n",
      " [ 10415   9897]\n",
      " [ 42684 150502]\n",
      " [  7132  11826]\n",
      " [  7388  23527]\n",
      " [  3402   7720]\n",
      " [  3827   7704]\n",
      " [  2649  11390]\n",
      " [  3382  11735]\n",
      " [  2792  12338]\n",
      " [  4873  21033]]\n"
     ]
    }
   ],
   "source": [
    "print(x_test)"
   ]
  },
  {
   "cell_type": "code",
   "execution_count": 10,
   "metadata": {
    "colab": {
     "base_uri": "https://localhost:8080/"
    },
    "id": "A-q3B6rTFRsk",
    "outputId": "bb185dd6-72a6-4544-bed4-ee78fc793e90"
   },
   "outputs": [
    {
     "name": "stdout",
     "output_type": "stream",
     "text": [
      "[  59679   42245 2198103   46438   49152   83752   87894   15829   18462\n",
      "   29358   21695   12714   23752   21874   13937   48853   53247   65650\n",
      "   14031   14947   25379   20939   16943  155656   21143   30855   10980\n",
      "   57014   28345   19356   33380   83738    9647   31001]\n"
     ]
    }
   ],
   "source": [
    "print(y_train)"
   ]
  },
  {
   "cell_type": "code",
   "execution_count": 11,
   "metadata": {
    "colab": {
     "base_uri": "https://localhost:8080/"
    },
    "id": "bURi3LXAFU9V",
    "outputId": "25ca4e15-0002-4b8d-cad9-521e12fc8469"
   },
   "outputs": [
    {
     "name": "stdout",
     "output_type": "stream",
     "text": [
      "[ 10796  11051  22420 584319  49660  55515  34036  20250  20895  53557\n",
      "  23638  44081]\n"
     ]
    }
   ],
   "source": [
    "print(y_test)"
   ]
  },
  {
   "cell_type": "code",
   "execution_count": 12,
   "metadata": {
    "id": "1s0b1C9trCel"
   },
   "outputs": [],
   "source": [
    "#dipake buat ngecilin interval"
   ]
  },
  {
   "cell_type": "code",
   "execution_count": 13,
   "metadata": {
    "id": "6_nELWd8FsZV"
   },
   "outputs": [],
   "source": [
    "from sklearn.preprocessing import StandardScaler\n",
    "sc = StandardScaler()\n",
    "x_train = sc.fit_transform(x_train)\n",
    "x_test = sc.transform(x_test)"
   ]
  },
  {
   "cell_type": "code",
   "execution_count": 14,
   "metadata": {
    "colab": {
     "base_uri": "https://localhost:8080/"
    },
    "id": "V8aMdM17GE1d",
    "outputId": "6c0b1b7b-8671-40fb-a0a4-f9c945167694"
   },
   "outputs": [
    {
     "name": "stdout",
     "output_type": "stream",
     "text": [
      "[[-0.01096697 -0.12899923]\n",
      " [-0.18626292 -0.18921328]\n",
      " [ 5.71399144  5.73684814]\n",
      " [-0.08649529 -0.1429832 ]\n",
      " [-0.16937883 -0.14328422]\n",
      " [-0.01915653 -0.07353773]\n",
      " [ 0.08247736 -0.09934375]\n",
      " [-0.2254103  -0.22598389]\n",
      " [-0.23976946 -0.21574905]\n",
      " [-0.16773214 -0.14879388]\n",
      " [-0.2278035  -0.21435339]\n",
      " [-0.25599488 -0.24455619]\n",
      " [-0.23206294 -0.16984736]\n",
      " [-0.22633245 -0.20794978]\n",
      " [-0.25320648 -0.25057668]\n",
      " [-0.15023328 -0.18519049]\n",
      " [-0.18872198 -0.1651678 ]\n",
      " [-0.06355137 -0.08528681]\n",
      " [-0.23641021 -0.19787914]\n",
      " [-0.25722441 -0.17010277]\n",
      " [-0.16527308 -0.21757344]\n",
      " [-0.2490129  -0.16728409]\n",
      " [-0.25243802 -0.24114458]\n",
      " [ 0.19559418 -0.0861534 ]\n",
      " [-0.25015461 -0.20544124]\n",
      " [-0.17745861 -0.17196365]\n",
      " [-0.25511664 -0.24621639]\n",
      " [-0.18922697 -0.11438586]\n",
      " [-0.21265392 -0.173186  ]\n",
      " [-0.22626658 -0.20511285]\n",
      " [-0.19972189 -0.12802319]\n",
      " [-0.10704602 -0.07621959]\n",
      " [-0.2662922  -0.25967128]\n",
      " [-0.24468759 -0.18567396]]\n"
     ]
    }
   ],
   "source": [
    "print(x_train)"
   ]
  },
  {
   "cell_type": "code",
   "execution_count": 15,
   "metadata": {
    "colab": {
     "base_uri": "https://localhost:8080/"
    },
    "id": "YFmdruUSGIqk",
    "outputId": "039ca904-9bb8-47a8-9483-e4058c712858"
   },
   "outputs": [
    {
     "name": "stdout",
     "output_type": "stream",
     "text": [
      "[[-0.24299698 -0.24146385]\n",
      " [-0.24446803 -0.24015941]\n",
      " [-0.06460525 -0.18953254]\n",
      " [ 0.64388986  1.09306028]\n",
      " [-0.13668649 -0.17193629]\n",
      " [-0.13106578 -0.06520026]\n",
      " [-0.21858202 -0.20939105]\n",
      " [-0.20925076 -0.209537  ]\n",
      " [-0.23511481 -0.17591346]\n",
      " [-0.21902113 -0.17276639]\n",
      " [-0.23197512 -0.16726585]\n",
      " [-0.18628488 -0.08795043]]\n"
     ]
    }
   ],
   "source": [
    "print(x_test)"
   ]
  },
  {
   "cell_type": "code",
   "execution_count": 16,
   "metadata": {
    "colab": {
     "base_uri": "https://localhost:8080/"
    },
    "id": "eQUyrwVKGqEN",
    "outputId": "cee63ac1-7075-476c-9939-09af9ffb7198"
   },
   "outputs": [
    {
     "data": {
      "text/plain": [
       "GaussianNB()"
      ]
     },
     "execution_count": 16,
     "metadata": {},
     "output_type": "execute_result"
    }
   ],
   "source": [
    "from sklearn.naive_bayes import GaussianNB\n",
    "classifier = GaussianNB()\n",
    "classifier.fit(x_train,y_train)\n"
   ]
  },
  {
   "cell_type": "code",
   "execution_count": 17,
   "metadata": {
    "id": "8zHdCQ4BHLl0"
   },
   "outputs": [],
   "source": [
    "y_pred = classifier.predict(x_test)"
   ]
  },
  {
   "cell_type": "code",
   "execution_count": 18,
   "metadata": {
    "colab": {
     "base_uri": "https://localhost:8080/"
    },
    "id": "EYAwhLBoHgPc",
    "outputId": "a2ac171a-ac72-4938-e893-7d2e7390979d"
   },
   "outputs": [
    {
     "name": "stdout",
     "output_type": "stream",
     "text": [
      "[[0 0 1 0 0 0 0 0 0 0 0 0 0 0 0 0 0 0 0 0 0]\n",
      " [0 0 1 0 0 0 0 0 0 0 0 0 0 0 0 0 0 0 0 0 0]\n",
      " [0 0 0 0 0 0 0 0 0 0 0 0 0 0 0 0 0 0 0 0 0]\n",
      " [0 0 0 0 0 1 0 0 0 0 0 0 0 0 0 0 0 0 0 0 0]\n",
      " [0 0 0 0 0 0 0 0 1 0 0 0 0 0 0 0 0 0 0 0 0]\n",
      " [0 0 0 0 0 0 0 0 0 0 0 0 0 0 0 0 0 0 0 0 0]\n",
      " [0 0 0 0 0 0 0 0 0 0 0 0 1 0 0 0 0 0 0 0 0]\n",
      " [0 0 0 0 0 0 0 0 1 0 0 0 0 0 0 0 0 0 0 0 0]\n",
      " [0 0 0 0 0 0 0 0 0 0 0 0 0 0 0 0 0 0 0 0 0]\n",
      " [0 0 0 0 0 0 0 0 0 0 0 0 0 0 0 0 0 0 0 0 0]\n",
      " [0 0 0 0 0 1 0 0 0 0 0 0 0 0 0 0 0 0 0 0 0]\n",
      " [0 0 0 0 0 0 0 0 0 0 0 0 0 0 0 0 0 1 0 0 0]\n",
      " [0 0 0 0 0 0 0 0 0 0 0 0 0 0 0 0 0 0 0 0 0]\n",
      " [0 0 0 0 0 0 0 0 0 0 0 0 0 0 0 0 0 0 0 0 0]\n",
      " [0 0 0 0 0 0 0 0 0 0 0 0 0 1 0 0 0 0 0 0 0]\n",
      " [0 0 0 0 0 0 0 0 0 1 0 0 0 0 0 0 0 0 0 0 0]\n",
      " [0 0 0 0 0 0 0 0 0 0 0 0 0 0 0 0 0 0 1 0 0]\n",
      " [0 0 0 0 0 0 0 0 0 0 0 0 0 0 0 0 0 0 0 0 0]\n",
      " [0 0 0 0 0 0 0 0 0 0 0 0 0 0 0 0 0 0 0 0 0]\n",
      " [0 0 0 0 0 0 0 0 0 0 0 0 0 0 0 0 0 0 0 0 0]\n",
      " [0 0 0 0 0 0 0 0 0 0 0 0 0 0 0 0 0 0 0 1 0]]\n"
     ]
    }
   ],
   "source": [
    "from sklearn.metrics import confusion_matrix\n",
    "cm = confusion_matrix(y_test,y_pred)\n",
    "print(cm)\n"
   ]
  },
  {
   "cell_type": "code",
   "execution_count": 19,
   "metadata": {
    "colab": {
     "base_uri": "https://localhost:8080/",
     "height": 349
    },
    "id": "KPkgBmdAI7_8",
    "outputId": "ced435b0-e25a-4fe6-b3d9-00bf97a9e03d"
   },
   "outputs": [
    {
     "name": "stderr",
     "output_type": "stream",
     "text": [
      "*c* argument looks like a single numeric RGB or RGBA sequence, which should be avoided as value-mapping will have precedence in case its length matches with *x* & *y*.  Please use the *color* keyword-argument or provide a 2-D array with a single row if you intend to specify the same RGB or RGBA value for all points.\n",
      "*c* argument looks like a single numeric RGB or RGBA sequence, which should be avoided as value-mapping will have precedence in case its length matches with *x* & *y*.  Please use the *color* keyword-argument or provide a 2-D array with a single row if you intend to specify the same RGB or RGBA value for all points.\n",
      "*c* argument looks like a single numeric RGB or RGBA sequence, which should be avoided as value-mapping will have precedence in case its length matches with *x* & *y*.  Please use the *color* keyword-argument or provide a 2-D array with a single row if you intend to specify the same RGB or RGBA value for all points.\n",
      "*c* argument looks like a single numeric RGB or RGBA sequence, which should be avoided as value-mapping will have precedence in case its length matches with *x* & *y*.  Please use the *color* keyword-argument or provide a 2-D array with a single row if you intend to specify the same RGB or RGBA value for all points.\n",
      "*c* argument looks like a single numeric RGB or RGBA sequence, which should be avoided as value-mapping will have precedence in case its length matches with *x* & *y*.  Please use the *color* keyword-argument or provide a 2-D array with a single row if you intend to specify the same RGB or RGBA value for all points.\n",
      "*c* argument looks like a single numeric RGB or RGBA sequence, which should be avoided as value-mapping will have precedence in case its length matches with *x* & *y*.  Please use the *color* keyword-argument or provide a 2-D array with a single row if you intend to specify the same RGB or RGBA value for all points.\n",
      "*c* argument looks like a single numeric RGB or RGBA sequence, which should be avoided as value-mapping will have precedence in case its length matches with *x* & *y*.  Please use the *color* keyword-argument or provide a 2-D array with a single row if you intend to specify the same RGB or RGBA value for all points.\n",
      "*c* argument looks like a single numeric RGB or RGBA sequence, which should be avoided as value-mapping will have precedence in case its length matches with *x* & *y*.  Please use the *color* keyword-argument or provide a 2-D array with a single row if you intend to specify the same RGB or RGBA value for all points.\n",
      "*c* argument looks like a single numeric RGB or RGBA sequence, which should be avoided as value-mapping will have precedence in case its length matches with *x* & *y*.  Please use the *color* keyword-argument or provide a 2-D array with a single row if you intend to specify the same RGB or RGBA value for all points.\n",
      "*c* argument looks like a single numeric RGB or RGBA sequence, which should be avoided as value-mapping will have precedence in case its length matches with *x* & *y*.  Please use the *color* keyword-argument or provide a 2-D array with a single row if you intend to specify the same RGB or RGBA value for all points.\n",
      "*c* argument looks like a single numeric RGB or RGBA sequence, which should be avoided as value-mapping will have precedence in case its length matches with *x* & *y*.  Please use the *color* keyword-argument or provide a 2-D array with a single row if you intend to specify the same RGB or RGBA value for all points.\n",
      "*c* argument looks like a single numeric RGB or RGBA sequence, which should be avoided as value-mapping will have precedence in case its length matches with *x* & *y*.  Please use the *color* keyword-argument or provide a 2-D array with a single row if you intend to specify the same RGB or RGBA value for all points.\n"
     ]
    },
    {
     "data": {
      "image/png": "[encoded data removed]",
      "text/plain": [
       "<Figure size 432x288 with 1 Axes>"
      ]
     },
     "metadata": {
      "needs_background": "light"
     },
     "output_type": "display_data"
    }
   ],
   "source": [
    "from matplotlib.colors import ListedColormap\n",
    "x_set, y_set = x_test , y_test\n",
    "x1 , x2 = np.meshgrid(np.arange(start = x_set[:, 0].min()-1,stop=x_set[:,0].max() +1, step = 0.01),\n",
    "                      np.arange(start = x_set[:, 1].min()-1,stop=x_set[:,0].max() +1, step = 0.01))\n",
    "plt.contourf(x1,x2, classifier.predict(np.array([x1.ravel(),x2.ravel()]).T).reshape(x1.shape),\n",
    "            alpha = 0.75, cmap = ListedColormap(('red','green')))\n",
    "plt.xlim(x1.min(), x1.max())\n",
    "plt.ylim(x2.min(), x2.max())\n",
    "for i,j in enumerate (np.unique(y_test)):\n",
    "  plt.scatter(x_set[y_set == j, 0], x_set[y_set == j, 1],\n",
    "              c = ListedColormap(('red','green'))(i),label = j)\n",
    "plt.title('Klasifikasi Datan dengan Native Bayes (Data Testing)')\n",
    "plt.xlabel('SESSION PLANNED FOR COVISHIELD')\n",
    "plt.ylabel('SESSION HELD FOR COVISHIELD')\n",
    "plt.legend()\n",
    "plt.show()\n",
    "   "
   ]
  },
  {
   "cell_type": "code",
   "execution_count": 20,
   "metadata": {
    "colab": {
     "base_uri": "https://localhost:8080/",
     "height": 349
    },
    "id": "iPgjLFoxPfLZ",
    "outputId": "c15ba5c7-559c-4720-d74c-59e6aa0913e6"
   },
   "outputs": [
    {
     "name": "stderr",
     "output_type": "stream",
     "text": [
      "*c* argument looks like a single numeric RGB or RGBA sequence, which should be avoided as value-mapping will have precedence in case its length matches with *x* & *y*.  Please use the *color* keyword-argument or provide a 2-D array with a single row if you intend to specify the same RGB or RGBA value for all points.\n",
      "*c* argument looks like a single numeric RGB or RGBA sequence, which should be avoided as value-mapping will have precedence in case its length matches with *x* & *y*.  Please use the *color* keyword-argument or provide a 2-D array with a single row if you intend to specify the same RGB or RGBA value for all points.\n",
      "*c* argument looks like a single numeric RGB or RGBA sequence, which should be avoided as value-mapping will have precedence in case its length matches with *x* & *y*.  Please use the *color* keyword-argument or provide a 2-D array with a single row if you intend to specify the same RGB or RGBA value for all points.\n",
      "*c* argument looks like a single numeric RGB or RGBA sequence, which should be avoided as value-mapping will have precedence in case its length matches with *x* & *y*.  Please use the *color* keyword-argument or provide a 2-D array with a single row if you intend to specify the same RGB or RGBA value for all points.\n",
      "*c* argument looks like a single numeric RGB or RGBA sequence, which should be avoided as value-mapping will have precedence in case its length matches with *x* & *y*.  Please use the *color* keyword-argument or provide a 2-D array with a single row if you intend to specify the same RGB or RGBA value for all points.\n",
      "*c* argument looks like a single numeric RGB or RGBA sequence, which should be avoided as value-mapping will have precedence in case its length matches with *x* & *y*.  Please use the *color* keyword-argument or provide a 2-D array with a single row if you intend to specify the same RGB or RGBA value for all points.\n",
      "*c* argument looks like a single numeric RGB or RGBA sequence, which should be avoided as value-mapping will have precedence in case its length matches with *x* & *y*.  Please use the *color* keyword-argument or provide a 2-D array with a single row if you intend to specify the same RGB or RGBA value for all points.\n",
      "*c* argument looks like a single numeric RGB or RGBA sequence, which should be avoided as value-mapping will have precedence in case its length matches with *x* & *y*.  Please use the *color* keyword-argument or provide a 2-D array with a single row if you intend to specify the same RGB or RGBA value for all points.\n",
      "*c* argument looks like a single numeric RGB or RGBA sequence, which should be avoided as value-mapping will have precedence in case its length matches with *x* & *y*.  Please use the *color* keyword-argument or provide a 2-D array with a single row if you intend to specify the same RGB or RGBA value for all points.\n",
      "*c* argument looks like a single numeric RGB or RGBA sequence, which should be avoided as value-mapping will have precedence in case its length matches with *x* & *y*.  Please use the *color* keyword-argument or provide a 2-D array with a single row if you intend to specify the same RGB or RGBA value for all points.\n",
      "*c* argument looks like a single numeric RGB or RGBA sequence, which should be avoided as value-mapping will have precedence in case its length matches with *x* & *y*.  Please use the *color* keyword-argument or provide a 2-D array with a single row if you intend to specify the same RGB or RGBA value for all points.\n",
      "*c* argument looks like a single numeric RGB or RGBA sequence, which should be avoided as value-mapping will have precedence in case its length matches with *x* & *y*.  Please use the *color* keyword-argument or provide a 2-D array with a single row if you intend to specify the same RGB or RGBA value for all points.\n"
     ]
    },
    {
     "data": {
      "image/png": "[encoded data removed]",
      "text/plain": [
       "<Figure size 432x288 with 1 Axes>"
      ]
     },
     "metadata": {
      "needs_background": "light"
     },
     "output_type": "display_data"
    }
   ],
   "source": [
    "from matplotlib.colors import ListedColormap\n",
    "x_set, y_set = x_train , y_train\n",
    "x1 , x2 = np.meshgrid(np.arange(start = x_set[:, 0].min()-1,stop=x_set[:,0].max() +1, step = 0.01),\n",
    "                      np.arange(start = x_set[:, 1].min()-1,stop=x_set[:,0].max() +1, step = 0.01))\n",
    "plt.contourf(x1,x2, classifier.predict(np.array([x1.ravel(),x2.ravel()]).T).reshape(x1.shape),\n",
    "            alpha = 0.75, cmap = ListedColormap(('red','green')))\n",
    "plt.xlim(x1.min(), x1.max())\n",
    "plt.ylim(x2.min(), x2.max())\n",
    "for i,j in enumerate (np.unique(y_test)):\n",
    "  plt.scatter(x_set[y_set == j, 0], x_set[y_set == j, 1],\n",
    "              c = ListedColormap(('red','green'))(i),label = j)\n",
    "plt.title('Klasifikasi Data dengan Native Bayes (Data Training)')\n",
    "plt.xlabel('SESSION PLANNED FOR COVISHIELD')\n",
    "plt.ylabel('SESSION HELD FOR COVISHIELD')\n",
    "plt.legend()\n",
    "plt.show()\n",
    "   "
   ]
  },
  {
   "cell_type": "code",
   "execution_count": null,
   "metadata": {},
   "outputs": [],
   "source": []
  },
  {
   "cell_type": "code",
   "execution_count": null,
   "metadata": {},
   "outputs": [],
   "source": []
  }
 ],
 "metadata": {
  "colab": {
   "collapsed_sections": [],
   "name": "klasifikasi-data-dengan-naive-bayes.ipynb",
   "provenance": [],
   "toc_visible": true
  },
  "kernelspec": {
   "display_name": "Python 3",
   "language": "python",
   "name": "python3"
  },
  "language_info": {
   "codemirror_mode": {
    "name": "ipython",
    "version": 3
   },
   "file_extension": ".py",
   "mimetype": "text/x-python",
   "name": "python",
   "nbconvert_exporter": "python",
   "pygments_lexer": "ipython3",
   "version": "3.8.7"
  }
 },
 "nbformat": 4,
 "nbformat_minor": 4
}
